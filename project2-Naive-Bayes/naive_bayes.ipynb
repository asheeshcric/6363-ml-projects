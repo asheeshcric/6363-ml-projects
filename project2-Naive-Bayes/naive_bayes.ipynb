{
 "cells": [
  {
   "cell_type": "code",
   "execution_count": 1,
   "metadata": {},
   "outputs": [],
   "source": [
    "import os\n",
    "import random"
   ]
  },
  {
   "cell_type": "code",
   "execution_count": 2,
   "metadata": {},
   "outputs": [],
   "source": [
    "import numpy as np\n",
    "import pandas as pd"
   ]
  },
  {
   "cell_type": "code",
   "execution_count": 3,
   "metadata": {},
   "outputs": [],
   "source": [
    "data_dir = 'data/20_newsgroups/'"
   ]
  },
  {
   "cell_type": "code",
   "execution_count": 4,
   "metadata": {},
   "outputs": [],
   "source": [
    "def get_targets(data_dir):\n",
    "    # Assign target values to each of the classes in the dataset\n",
    "    targets = {}\n",
    "    for i, newsgroup in enumerate(os.listdir(data_dir)):\n",
    "        targets[newsgroup] = i\n",
    "    return targets"
   ]
  },
  {
   "cell_type": "markdown",
   "metadata": {},
   "source": [
    "#### Assigning a target value to each document class"
   ]
  },
  {
   "cell_type": "code",
   "execution_count": 5,
   "metadata": {},
   "outputs": [
    {
     "data": {
      "text/plain": [
       "{'alt.atheism': 0,\n",
       " 'rec.autos': 1,\n",
       " 'comp.windows.x': 2,\n",
       " 'sci.med': 3,\n",
       " 'sci.crypt': 4,\n",
       " 'comp.os.ms-windows.misc': 5,\n",
       " 'talk.politics.mideast': 6,\n",
       " 'talk.politics.misc': 7,\n",
       " 'sci.electronics': 8,\n",
       " 'rec.sport.baseball': 9,\n",
       " 'rec.sport.hockey': 10,\n",
       " 'comp.graphics': 11,\n",
       " 'sci.space': 12,\n",
       " 'talk.politics.guns': 13,\n",
       " 'comp.sys.mac.hardware': 14,\n",
       " 'misc.forsale': 15,\n",
       " 'talk.religion.misc': 16,\n",
       " 'rec.motorcycles': 17,\n",
       " 'comp.sys.ibm.pc.hardware': 18,\n",
       " 'soc.religion.christian': 19}"
      ]
     },
     "execution_count": 5,
     "metadata": {},
     "output_type": "execute_result"
    }
   ],
   "source": [
    "targets_dict = get_targets(data_dir)\n",
    "targets_dict"
   ]
  },
  {
   "cell_type": "code",
   "execution_count": 6,
   "metadata": {},
   "outputs": [],
   "source": [
    "def get_data_paths(data_dir):\n",
    "    X_paths, Y = [], []\n",
    "    targets_dict = get_targets(data_dir)\n",
    "    for newsgroup_dir in os.listdir(data_dir):\n",
    "        class_path = os.path.join(data_dir, newsgroup_dir)\n",
    "        for text_file in os.listdir(class_path):\n",
    "            X_paths.append(os.path.join(class_path, text_file))\n",
    "            Y.append(targets_dict.get(newsgroup_dir))\n",
    "            \n",
    "    return X_paths, Y\n",
    "    "
   ]
  },
  {
   "cell_type": "code",
   "execution_count": 7,
   "metadata": {},
   "outputs": [],
   "source": [
    "X_paths, Y = get_data_paths(data_dir)"
   ]
  },
  {
   "cell_type": "code",
   "execution_count": 10,
   "metadata": {},
   "outputs": [
    {
     "name": "stdout",
     "output_type": "stream",
     "text": [
      "Total data samples: 19997\n"
     ]
    }
   ],
   "source": [
    "print(f'Total data samples: {len(Y)}')"
   ]
  },
  {
   "cell_type": "markdown",
   "metadata": {},
   "source": [
    "#### Randomly checking if the data is correct or not"
   ]
  },
  {
   "cell_type": "code",
   "execution_count": 11,
   "metadata": {},
   "outputs": [
    {
     "data": {
      "text/plain": [
       "['data/20_newsgroups/talk.politics.misc/178869',\n",
       " 'data/20_newsgroups/rec.sport.hockey/54132',\n",
       " 'data/20_newsgroups/misc.forsale/75994',\n",
       " 'data/20_newsgroups/sci.crypt/16067',\n",
       " 'data/20_newsgroups/sci.crypt/15217']"
      ]
     },
     "execution_count": 11,
     "metadata": {},
     "output_type": "execute_result"
    }
   ],
   "source": [
    "random.sample(X_paths, 5)"
   ]
  },
  {
   "cell_type": "code",
   "execution_count": 12,
   "metadata": {},
   "outputs": [
    {
     "data": {
      "text/plain": [
       "[11, 12, 18, 19, 5]"
      ]
     },
     "execution_count": 12,
     "metadata": {},
     "output_type": "execute_result"
    }
   ],
   "source": [
    "random.sample(Y, 5)"
   ]
  },
  {
   "cell_type": "code",
   "execution_count": 29,
   "metadata": {},
   "outputs": [],
   "source": [
    "def split_train_test(X, y, test_pct=0.5):\n",
    "    total_len = len(y)\n",
    "    train_len = int(test_pct*total_len)\n",
    "    train_indices = random.sample(range(total_len), train_len)\n",
    "    test_indices = [k for k in range(total_len) if k not in train_indices]\n",
    "    X_train, y_train, X_test, y_test = [], [], [], []\n",
    "    for i in train_indices:\n",
    "        X_train.append(X[i])\n",
    "        y_train.append(y[i])\n",
    "        \n",
    "    for i in test_indices:\n",
    "        X_test.append(X[i])\n",
    "        y_test.append(y[i])\n",
    "    \n",
    "    return X_train, y_train, X_test, y_test"
   ]
  },
  {
   "cell_type": "code",
   "execution_count": 28,
   "metadata": {},
   "outputs": [
    {
     "name": "stdout",
     "output_type": "stream",
     "text": [
      "9998\n",
      "[15460, 10377, 1494, 6048, 14801, 12374, 4360, 6435, 15024, 986]\n",
      "9999\n"
     ]
    }
   ],
   "source": [
    "X_train, y_train, X_test, y_test = split_train_test(X_paths, Y, test_pct=0.5)"
   ]
  },
  {
   "cell_type": "code",
   "execution_count": 18,
   "metadata": {},
   "outputs": [
    {
     "name": "stdout",
     "output_type": "stream",
     "text": [
      "Training samples: 9998 || Testing samples: 12073\n"
     ]
    }
   ],
   "source": [
    "print(f'Training samples: {len(y_train)} || Testing samples: {len(y_test)}')"
   ]
  },
  {
   "cell_type": "code",
   "execution_count": null,
   "metadata": {},
   "outputs": [],
   "source": []
  }
 ],
 "metadata": {
  "kernelspec": {
   "display_name": "asheesh",
   "language": "python",
   "name": "asheesh"
  },
  "language_info": {
   "codemirror_mode": {
    "name": "ipython",
    "version": 3
   },
   "file_extension": ".py",
   "mimetype": "text/x-python",
   "name": "python",
   "nbconvert_exporter": "python",
   "pygments_lexer": "ipython3",
   "version": "3.8.5"
  }
 },
 "nbformat": 4,
 "nbformat_minor": 4
}
