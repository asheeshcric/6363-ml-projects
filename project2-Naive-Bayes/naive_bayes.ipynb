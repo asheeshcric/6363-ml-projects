{
 "cells": [
  {
   "cell_type": "code",
   "execution_count": 51,
   "metadata": {},
   "outputs": [],
   "source": [
    "import os\n",
    "import random\n",
    "from string import punctuation"
   ]
  },
  {
   "cell_type": "code",
   "execution_count": 2,
   "metadata": {},
   "outputs": [],
   "source": [
    "import numpy as np\n",
    "import pandas as pd"
   ]
  },
  {
   "cell_type": "code",
   "execution_count": 3,
   "metadata": {},
   "outputs": [],
   "source": [
    "data_dir = 'data/20_newsgroups/'"
   ]
  },
  {
   "cell_type": "code",
   "execution_count": 4,
   "metadata": {},
   "outputs": [],
   "source": [
    "def get_targets(data_dir):\n",
    "    # Assign target values to each of the classes in the dataset\n",
    "    targets = {}\n",
    "    for i, newsgroup in enumerate(os.listdir(data_dir)):\n",
    "        targets[newsgroup] = i\n",
    "    return targets"
   ]
  },
  {
   "cell_type": "markdown",
   "metadata": {},
   "source": [
    "#### Assigning a target value to each document class"
   ]
  },
  {
   "cell_type": "code",
   "execution_count": 5,
   "metadata": {},
   "outputs": [
    {
     "data": {
      "text/plain": [
       "{'alt.atheism': 0,\n",
       " 'rec.autos': 1,\n",
       " 'comp.windows.x': 2,\n",
       " 'sci.med': 3,\n",
       " 'sci.crypt': 4,\n",
       " 'comp.os.ms-windows.misc': 5,\n",
       " 'talk.politics.mideast': 6,\n",
       " 'talk.politics.misc': 7,\n",
       " 'sci.electronics': 8,\n",
       " 'rec.sport.baseball': 9,\n",
       " 'rec.sport.hockey': 10,\n",
       " 'comp.graphics': 11,\n",
       " 'sci.space': 12,\n",
       " 'talk.politics.guns': 13,\n",
       " 'comp.sys.mac.hardware': 14,\n",
       " 'misc.forsale': 15,\n",
       " 'talk.religion.misc': 16,\n",
       " 'rec.motorcycles': 17,\n",
       " 'comp.sys.ibm.pc.hardware': 18,\n",
       " 'soc.religion.christian': 19}"
      ]
     },
     "execution_count": 5,
     "metadata": {},
     "output_type": "execute_result"
    }
   ],
   "source": [
    "targets_dict = get_targets(data_dir)\n",
    "targets_dict"
   ]
  },
  {
   "cell_type": "code",
   "execution_count": 6,
   "metadata": {},
   "outputs": [],
   "source": [
    "def get_data_paths(data_dir):\n",
    "    X_paths, Y = [], []\n",
    "    targets_dict = get_targets(data_dir)\n",
    "    for newsgroup_dir in os.listdir(data_dir):\n",
    "        class_path = os.path.join(data_dir, newsgroup_dir)\n",
    "        for text_file in os.listdir(class_path):\n",
    "            X_paths.append(os.path.join(class_path, text_file))\n",
    "            Y.append(targets_dict.get(newsgroup_dir))\n",
    "            \n",
    "    return X_paths, Y\n",
    "    "
   ]
  },
  {
   "cell_type": "code",
   "execution_count": 7,
   "metadata": {},
   "outputs": [],
   "source": [
    "X_paths, Y = get_data_paths(data_dir)"
   ]
  },
  {
   "cell_type": "code",
   "execution_count": 10,
   "metadata": {},
   "outputs": [
    {
     "name": "stdout",
     "output_type": "stream",
     "text": [
      "Total data samples: 19997\n"
     ]
    }
   ],
   "source": [
    "print(f'Total data samples: {len(Y)}')"
   ]
  },
  {
   "cell_type": "markdown",
   "metadata": {},
   "source": [
    "#### Randomly checking if the data is correct or not"
   ]
  },
  {
   "cell_type": "code",
   "execution_count": 11,
   "metadata": {},
   "outputs": [
    {
     "data": {
      "text/plain": [
       "['data/20_newsgroups/talk.politics.misc/178869',\n",
       " 'data/20_newsgroups/rec.sport.hockey/54132',\n",
       " 'data/20_newsgroups/misc.forsale/75994',\n",
       " 'data/20_newsgroups/sci.crypt/16067',\n",
       " 'data/20_newsgroups/sci.crypt/15217']"
      ]
     },
     "execution_count": 11,
     "metadata": {},
     "output_type": "execute_result"
    }
   ],
   "source": [
    "random.sample(X_paths, 5)"
   ]
  },
  {
   "cell_type": "code",
   "execution_count": 12,
   "metadata": {},
   "outputs": [
    {
     "data": {
      "text/plain": [
       "[11, 12, 18, 19, 5]"
      ]
     },
     "execution_count": 12,
     "metadata": {},
     "output_type": "execute_result"
    }
   ],
   "source": [
    "random.sample(Y, 5)"
   ]
  },
  {
   "cell_type": "code",
   "execution_count": 29,
   "metadata": {},
   "outputs": [],
   "source": [
    "def split_train_test(X, y, test_pct=0.5):\n",
    "    total_len = len(y)\n",
    "    train_len = int(test_pct*total_len)\n",
    "    train_indices = random.sample(range(total_len), train_len)\n",
    "    test_indices = [k for k in range(total_len) if k not in train_indices]\n",
    "    X_train, y_train, X_test, y_test = [], [], [], []\n",
    "    for i in train_indices:\n",
    "        X_train.append(X[i])\n",
    "        y_train.append(y[i])\n",
    "        \n",
    "    for i in test_indices:\n",
    "        X_test.append(X[i])\n",
    "        y_test.append(y[i])\n",
    "    \n",
    "    return X_train, y_train, X_test, y_test"
   ]
  },
  {
   "cell_type": "code",
   "execution_count": 28,
   "metadata": {},
   "outputs": [
    {
     "name": "stdout",
     "output_type": "stream",
     "text": [
      "9998\n",
      "[15460, 10377, 1494, 6048, 14801, 12374, 4360, 6435, 15024, 986]\n",
      "9999\n"
     ]
    }
   ],
   "source": [
    "X_train, y_train, X_test, y_test = split_train_test(X_paths, Y, test_pct=0.5)"
   ]
  },
  {
   "cell_type": "code",
   "execution_count": 18,
   "metadata": {},
   "outputs": [
    {
     "name": "stdout",
     "output_type": "stream",
     "text": [
      "Training samples: 9998 || Testing samples: 12073\n"
     ]
    }
   ],
   "source": [
    "print(f'Training samples: {len(y_train)} || Testing samples: {len(y_test)}')"
   ]
  },
  {
   "cell_type": "markdown",
   "metadata": {},
   "source": [
    "#### Stop Words taken from NLTK corpora\n",
    "- These words are very common and do not contribute much to the semantic meaning of a text document\n",
    "- So, I am filtering out these words from the documents"
   ]
  },
  {
   "cell_type": "code",
   "execution_count": 33,
   "metadata": {},
   "outputs": [],
   "source": [
    "stop_words = ['a', 'about', 'above', 'after', 'again', 'against', 'all', 'am', 'an', 'and', 'any', 'are', \"aren't\", 'as', 'at',\n",
    " 'be', 'because', 'been', 'before', 'being', 'below', 'between', 'both', 'but', 'by', \n",
    " 'can', \"can't\", 'cannot', 'could', \"couldn't\", 'did', \"didn't\", 'do', 'does', \"doesn't\", 'doing', \"don't\", 'down', 'during',\n",
    " 'each', 'few', 'for', 'from', 'further', \n",
    " 'had', \"hadn't\", 'has', \"hasn't\", 'have', \"haven't\", 'having', 'he', \"he'd\", \"he'll\", \"he's\", 'her', 'here', \"here's\",\n",
    " 'hers', 'herself', 'him', 'himself', 'his', 'how', \"how's\",\n",
    " 'i', \"i'd\", \"i'll\", \"i'm\", \"i've\", 'if', 'in', 'into', 'is', \"isn't\", 'it', \"it's\", 'its', 'itself',\n",
    " \"let's\", 'me', 'more', 'most', \"mustn't\", 'my', 'myself',\n",
    " 'no', 'nor', 'not', 'of', 'off', 'on', 'once', 'only', 'or', 'other', 'ought', 'our', 'ours' 'ourselves', 'out', 'over', 'own',\n",
    " 'same', \"shan't\", 'she', \"she'd\", \"she'll\", \"she's\", 'should', \"shouldn't\", 'so', 'some', 'such', \n",
    " 'than', 'that',\"that's\", 'the', 'their', 'theirs', 'them', 'themselves', 'then', 'there', \"there's\", 'these', 'they', \"they'd\", \n",
    " \"they'll\", \"they're\", \"they've\", 'this', 'those', 'through', 'to', 'too', 'under', 'until', 'up', 'very', \n",
    " 'was', \"wasn't\", 'we', \"we'd\", \"we'll\", \"we're\", \"we've\", 'were', \"weren't\", 'what', \"what's\", 'when', \"when's\", 'where',\n",
    " \"where's\", 'which', 'while', 'who', \"who's\", 'whom', 'why', \"why's\",'will', 'with', \"won't\", 'would', \"wouldn't\", \n",
    " 'you', \"you'd\", \"you'll\", \"you're\", \"you've\", 'your', 'yours', 'yourself', 'yourselves', \n",
    " 'one', 'two', 'three', 'four', 'five', 'six', 'seven', 'eight', 'nine', 'ten', 'hundred', 'thousand', '1st', '2nd', '3rd',\n",
    " '4th', '5th', '6th', '7th', '8th', '9th', '10th']"
   ]
  },
  {
   "cell_type": "markdown",
   "metadata": {},
   "source": [
    "#### Remove headers from the document text\n",
    "- There are a couple of line breaks after header information in each file\n",
    "- So, check for that and remove everything above that"
   ]
  },
  {
   "cell_type": "code",
   "execution_count": 34,
   "metadata": {},
   "outputs": [],
   "source": [
    "def remove_headers(lines):\n",
    "    for i, line in enumerate(lines):\n",
    "        if line == '\\n':\n",
    "            break\n",
    "    return lines[i+1:]"
   ]
  },
  {
   "cell_type": "markdown",
   "metadata": {},
   "source": [
    "#### Remove whitespaces and stop words from every line"
   ]
  },
  {
   "cell_type": "code",
   "execution_count": 50,
   "metadata": {},
   "outputs": [],
   "source": [
    "def has_num(word):\n",
    "    for i in range(10):\n",
    "        if str(i) in word:\n",
    "            return True\n",
    "    return False"
   ]
  },
  {
   "cell_type": "code",
   "execution_count": 52,
   "metadata": {},
   "outputs": [],
   "source": [
    "def remove_punctuations(word):\n",
    "    all_punctuations = string.punctuation.replace(\"'\", \"\")\n",
    "    # Also, add tabs\n",
    "    all_punctuations += '\\t'\n",
    "    table = str.maketrans('', '', all_punctuations)\n",
    "    return word.translate(table)"
   ]
  },
  {
   "cell_type": "code",
   "execution_count": 57,
   "metadata": {},
   "outputs": [],
   "source": [
    "def pre_process(words):\n",
    "    \"\"\"\n",
    "    Takes in a list of words and applies some preprocessing\n",
    "    1. Remove numbers from string\n",
    "    2. Remove punctuations\n",
    "    3. Remove quotes from words if present\n",
    "    \"\"\"\n",
    "    processed_words = []\n",
    "    for word in words:\n",
    "        # Remove numbers from words\n",
    "        if has_num(word):\n",
    "            continue\n",
    "        # Remove punctuations\n",
    "        word = remove_punctuations(word)\n",
    "        \n",
    "        # Also check for quoted words and remove the quotes\n",
    "        if word[0] in [\"'\", '\"']:\n",
    "            word = word[1:]\n",
    "        if word[-1] in [\"'\", '\"']:\n",
    "            word = word[:-1]\n",
    "            \n",
    "        processed_words.append(word)\n",
    "    \n",
    "    return processed_words"
   ]
  },
  {
   "cell_type": "code",
   "execution_count": 58,
   "metadata": {},
   "outputs": [],
   "source": [
    "def remove_stop_words(words):\n",
    "    # Remove stop words from a list of words\n",
    "    # Also, remove empty strings and single char strings\n",
    "    return [word.lower() for word in words if len(word)>1 and word not in stop_words]"
   ]
  },
  {
   "cell_type": "code",
   "execution_count": 59,
   "metadata": {},
   "outputs": [],
   "source": [
    "def validate_line(line):\n",
    "    words = line.replace('\\n', '').strip().split(' ')\n",
    "    words = pre_process(words)\n",
    "    return remove_stop_words(words)"
   ]
  },
  {
   "cell_type": "code",
   "execution_count": 66,
   "metadata": {},
   "outputs": [],
   "source": [
    "def read_file(file_path):\n",
    "    with open(file_path, 'rb') as file:\n",
    "        lines = file.readlines()\n",
    "        print(lines)\n",
    "        valid_lines = remove_headers(lines)\n",
    "        valid_words = []\n",
    "        for line in valid_lines:\n",
    "            valid_words.append(validate_line(line))\n",
    "            \n",
    "    return valid_words"
   ]
  },
  {
   "cell_type": "code",
   "execution_count": 67,
   "metadata": {},
   "outputs": [
    {
     "name": "stdout",
     "output_type": "stream",
     "text": [
      "[b'Xref: cantaloupe.srv.cs.cmu.edu alt.atheism:49960 alt.atheism.moderated:713 news.answers:7054 alt.answers:126\\n', b'Path: cantaloupe.srv.cs.cmu.edu!crabapple.srv.cs.cmu.edu!bb3.andrew.cmu.edu!news.sei.cmu.edu!cis.ohio-state.edu!magnus.acs.ohio-state.edu!usenet.ins.cwru.edu!agate!spool.mu.edu!uunet!pipex!ibmpcug!mantis!mathew\\n', b'From: mathew <mathew@mantis.co.uk>\\n', b'Newsgroups: alt.atheism,alt.atheism.moderated,news.answers,alt.answers\\n', b'Subject: Alt.Atheism FAQ: Atheist Resources\\n', b'Summary: Books, addresses, music -- anything related to atheism\\n', b'Keywords: FAQ, atheism, books, music, fiction, addresses, contacts\\n', b'Message-ID: <19930329115719@mantis.co.uk>\\n', b'Date: Mon, 29 Mar 1993 11:57:19 GMT\\n', b'Expires: Thu, 29 Apr 1993 11:57:19 GMT\\n', b'Followup-To: alt.atheism\\n', b'Distribution: world\\n', b'Organization: Mantis Consultants, Cambridge. UK.\\n', b'Approved: news-answers-request@mit.edu\\n', b'Supersedes: <19930301143317@mantis.co.uk>\\n', b'Lines: 290\\n', b'\\n', b'Archive-name: atheism/resources\\n', b'Alt-atheism-archive-name: resources\\n', b'Last-modified: 11 December 1992\\n', b'Version: 1.0\\n', b'\\n', b'                              Atheist Resources\\n', b'\\n', b'                      Addresses of Atheist Organizations\\n', b'\\n', b'                                     USA\\n', b'\\n', b'FREEDOM FROM RELIGION FOUNDATION\\n', b'\\n', b'Darwin fish bumper stickers and assorted other atheist paraphernalia are\\n', b'available from the Freedom From Religion Foundation in the US.\\n', b'\\n', b'Write to:  FFRF, P.O. Box 750, Madison, WI 53701.\\n', b'Telephone: (608) 256-8900\\n', b'\\n', b'EVOLUTION DESIGNS\\n', b'\\n', b'Evolution Designs sell the \"Darwin fish\".  It\\'s a fish symbol, like the ones\\n', b'Christians stick on their cars, but with feet and the word \"Darwin\" written\\n', b'inside.  The deluxe moulded 3D plastic fish is $4.95 postpaid in the US.\\n', b'\\n', b'Write to:  Evolution Designs, 7119 Laurel Canyon #4, North Hollywood,\\n', b'           CA 91605.\\n', b'\\n', b'People in the San Francisco Bay area can get Darwin Fish from Lynn Gold --\\n', b'try mailing <figmo@netcom.com>.  For net people who go to Lynn directly, the\\n', b'price is $4.95 per fish.\\n', b'\\n', b'AMERICAN ATHEIST PRESS\\n', b'\\n', b'AAP publish various atheist books -- critiques of the Bible, lists of\\n', b'Biblical contradictions, and so on.  One such book is:\\n', b'\\n', b'\"The Bible Handbook\" by W.P. Ball and G.W. Foote.  American Atheist Press.\\n', b'372 pp.  ISBN 0-910309-26-4, 2nd edition, 1986.  Bible contradictions,\\n', b'absurdities, atrocities, immoralities... contains Ball, Foote: \"The Bible\\n', b'Contradicts Itself\", AAP.  Based on the King James version of the Bible.\\n', b'\\n', b'Write to:  American Atheist Press, P.O. Box 140195, Austin, TX 78714-0195.\\n', b'      or:  7215 Cameron Road, Austin, TX 78752-2973.\\n', b'Telephone: (512) 458-1244\\n', b'Fax:       (512) 467-9525\\n', b'\\n', b'PROMETHEUS BOOKS\\n', b'\\n', b'Sell books including Haught\\'s \"Holy Horrors\" (see below).\\n', b'\\n', b'Write to:  700 East Amherst Street, Buffalo, New York 14215.\\n', b'Telephone: (716) 837-2475.\\n', b'\\n', b'An alternate address (which may be newer or older) is:\\n', b'Prometheus Books, 59 Glenn Drive, Buffalo, NY 14228-2197.\\n', b'\\n', b'AFRICAN-AMERICANS FOR HUMANISM\\n', b'\\n', b'An organization promoting black secular humanism and uncovering the history of\\n', b'black freethought.  They publish a quarterly newsletter, AAH EXAMINER.\\n', b'\\n', b'Write to:  Norm R. Allen, Jr., African Americans for Humanism, P.O. Box 664,\\n', b'           Buffalo, NY 14226.\\n', b'\\n', b'                                United Kingdom\\n', b'\\n', b'Rationalist Press Association          National Secular Society\\n', b'88 Islington High Street               702 Holloway Road\\n', b'London N1 8EW                          London N19 3NL\\n', b'071 226 7251                           071 272 1266\\n', b'\\n', b'British Humanist Association           South Place Ethical Society\\n', b\"14 Lamb's Conduit Passage              Conway Hall\\n\", b'London WC1R 4RH                        Red Lion Square\\n', b'071 430 0908                           London WC1R 4RL\\n', b'fax 071 430 1271                       071 831 7723\\n', b'\\n', b'The National Secular Society publish \"The Freethinker\", a monthly magazine\\n', b'founded in 1881.\\n', b'\\n', b'                                   Germany\\n', b'\\n', b'IBKA e.V.\\n', b'Internationaler Bund der Konfessionslosen und Atheisten\\n', b'Postfach 880, D-1000 Berlin 41. Germany.\\n', b'\\n', b'IBKA publish a journal:\\n', b'MIZ. (Materialien und Informationen zur Zeit. Politisches\\n', b'Journal der Konfessionslosesn und Atheisten. Hrsg. IBKA e.V.)\\n', b'MIZ-Vertrieb, Postfach 880, D-1000 Berlin 41. Germany.\\n', b'\\n', b'For atheist books, write to:\\n', b'\\n', b'IBDK, Internationaler B\"ucherdienst der Konfessionslosen\\n', b'Postfach 3005, D-3000 Hannover 1. Germany.\\n', b'Telephone: 0511/211216\\n', b'\\n', b'\\n', b'                               Books -- Fiction\\n', b'\\n', b'THOMAS M. DISCH\\n', b'\\n', b'\"The Santa Claus Compromise\"\\n', b'Short story.  The ultimate proof that Santa exists.  All characters and \\n', b'events are fictitious.  Any similarity to living or dead gods -- uh, well...\\n', b'\\n', b'WALTER M. MILLER, JR\\n', b'\\n', b'\"A Canticle for Leibowitz\"\\n', b'One gem in this post atomic doomsday novel is the monks who spent their lives\\n', b'copying blueprints from \"Saint Leibowitz\", filling the sheets of paper with\\n', b'ink and leaving white lines and letters.\\n', b'\\n', b'EDGAR PANGBORN\\n', b'\\n', b'\"Davy\"\\n', b'Post atomic doomsday novel set in clerical states.  The church, for example,\\n', b'forbids that anyone \"produce, describe or use any substance containing...\\n', b'atoms\". \\n', b'\\n', b'PHILIP K. DICK\\n', b'\\n', b'Philip K. Dick Dick wrote many philosophical and thought-provoking short \\n', b'stories and novels.  His stories are bizarre at times, but very approachable.\\n', b'He wrote mainly SF, but he wrote about people, truth and religion rather than\\n', b'technology.  Although he often believed that he had met some sort of God, he\\n', b'remained sceptical.  Amongst his novels, the following are of some relevance:\\n', b'\\n', b'\"Galactic Pot-Healer\"\\n', b'A fallible alien deity summons a group of Earth craftsmen and women to a\\n', b'remote planet to raise a giant cathedral from beneath the oceans.  When the\\n', b'deity begins to demand faith from the earthers, pot-healer Joe Fernwright is\\n', b'unable to comply.  A polished, ironic and amusing novel.\\n', b'\\n', b'\"A Maze of Death\"\\n', b'Noteworthy for its description of a technology-based religion.\\n', b'\\n', b'\"VALIS\"\\n', b'The schizophrenic hero searches for the hidden mysteries of Gnostic\\n', b'Christianity after reality is fired into his brain by a pink laser beam of\\n', b'unknown but possibly divine origin.  He is accompanied by his dogmatic and\\n', b'dismissively atheist friend and assorted other odd characters.\\n', b'\\n', b'\"The Divine Invasion\"\\n', b'God invades Earth by making a young woman pregnant as she returns from\\n', b'another star system.  Unfortunately she is terminally ill, and must be\\n', b'assisted by a dead man whose brain is wired to 24-hour easy listening music.\\n', b'\\n', b'MARGARET ATWOOD\\n', b'\\n', b'\"The Handmaid\\'s Tale\"\\n', b'A story based on the premise that the US Congress is mysteriously\\n', b'assassinated, and fundamentalists quickly take charge of the nation to set it\\n', b'\"right\" again.  The book is the diary of a woman\\'s life as she tries to live\\n', b\"under the new Christian theocracy.  Women's right to own property is revoked,\\n\", b'and their bank accounts are closed; sinful luxuries are outlawed, and the\\n', b'radio is only used for readings from the Bible.  Crimes are punished\\n', b'retroactively: doctors who performed legal abortions in the \"old world\" are\\n', b\"hunted down and hanged.  Atwood's writing style is difficult to get used to\\n\", b'at first, but the tale grows more and more chilling as it goes on.\\n', b'\\n', b'VARIOUS AUTHORS\\n', b'\\n', b'\"The Bible\"\\n', b'This somewhat dull and rambling work has often been criticized.  However, it\\n', b\"is probably worth reading, if only so that you'll know what all the fuss is\\n\", b'about.  It exists in many different versions, so make sure you get the one\\n', b'true version.\\n', b'\\n', b'                             Books -- Non-fiction\\n', b'\\n', b'PETER DE ROSA\\n', b'\\n', b'\"Vicars of Christ\", Bantam Press, 1988\\n', b'Although de Rosa seems to be Christian or even Catholic this is a very\\n', b'enlighting history of papal immoralities, adulteries, fallacies etc.\\n', b'(German translation: \"Gottes erste Diener. Die dunkle Seite des Papsttums\",\\n', b'Droemer-Knaur, 1989)\\n', b'\\n', b'MICHAEL MARTIN\\n', b'\\n', b'\"Atheism: A Philosophical Justification\", Temple University Press,\\n', b' Philadelphia, USA.\\n', b'A detailed and scholarly justification of atheism.  Contains an outstanding\\n', b'appendix defining terminology and usage in this (necessarily) tendentious\\n', b'area.  Argues both for \"negative atheism\" (i.e. the \"non-belief in the\\n', b'existence of god(s)\") and also for \"positive atheism\" (\"the belief in the\\n', b'non-existence of god(s)\").  Includes great refutations of the most\\n', b'challenging arguments for god; particular attention is paid to refuting\\n', b'contempory theists such as Platinga and Swinburne.\\n', b'541 pages. ISBN 0-87722-642-3 (hardcover; paperback also available)\\n', b'\\n', b'\"The Case Against Christianity\", Temple University Press\\n', b'A comprehensive critique of Christianity, in which he considers\\n', b'the best contemporary defences of Christianity and (ultimately)\\n', b'demonstrates that they are unsupportable and/or incoherent.\\n', b'273 pages. ISBN 0-87722-767-5\\n', b'\\n', b'JAMES TURNER\\n', b'\\n', b'\"Without God, Without Creed\", The Johns Hopkins University Press, Baltimore,\\n', b' MD, USA\\n', b'Subtitled \"The Origins of Unbelief in America\".  Examines the way in which\\n', b'unbelief (whether agnostic or atheistic)  became a mainstream alternative\\n', b'world-view.  Focusses on the period 1770-1900, and while considering France\\n', b'and Britain the emphasis is on American, and particularly New England\\n', b'developments.  \"Neither a religious history of secularization or atheism,\\n', b'Without God, Without Creed is, rather, the intellectual history of the fate\\n', b'of a single idea, the belief that God exists.\" \\n', b'316 pages. ISBN (hardcover) 0-8018-2494-X (paper) 0-8018-3407-4\\n', b'\\n', b'GEORGE SELDES (Editor)\\n', b'\\n', b'\"The great thoughts\", Ballantine Books, New York, USA\\n', b'A \"dictionary of quotations\" of a different kind, concentrating on statements\\n', b\"and writings which, explicitly or implicitly, present the person's philosophy\\n\", b'and world-view.  Includes obscure (and often suppressed) opinions from many\\n', b'people.  For some popular observations, traces the way in which various\\n', b'people expressed and twisted the idea over the centuries.  Quite a number of\\n', b'the quotations are derived from Cardiff\\'s \"What Great Men Think of Religion\"\\n', b'and Noyes\\' \"Views of Religion\".\\n', b'490 pages. ISBN (paper) 0-345-29887-X.\\n', b'\\n', b'RICHARD SWINBURNE\\n', b'\\n', b'\"The Existence of God (Revised Edition)\", Clarendon Paperbacks, Oxford\\n', b'This book is the second volume in a trilogy that began with \"The Coherence of\\n', b'Theism\" (1977) and was concluded with \"Faith and Reason\" (1981).  In this\\n', b'work, Swinburne attempts to construct a series of inductive arguments for the\\n', b'existence of God.  His arguments, which are somewhat tendentious and rely\\n', b'upon the imputation of late 20th century western Christian values and\\n', b'aesthetics to a God which is supposedly as simple as can be conceived, were\\n', b'decisively rejected in Mackie\\'s \"The Miracle of Theism\".  In the revised\\n', b'edition of \"The Existence of God\", Swinburne includes an Appendix in which he\\n', b'makes a somewhat incoherent attempt to rebut Mackie.\\n', b'\\n', b'J. L. MACKIE\\n', b'\\n', b'\"The Miracle of Theism\", Oxford\\n', b'This (posthumous) volume contains a comprehensive review of the principal\\n', b'arguments for and against the existence of God.  It ranges from the classical\\n', b'philosophical positions of Descartes, Anselm, Berkeley, Hume et al, through\\n', b'the moral arguments of Newman, Kant and Sidgwick, to the recent restatements\\n', b'of the classical theses by Plantinga and Swinburne.  It also addresses those\\n', b'positions which push the concept of God beyond the realm of the rational,\\n', b'such as those of Kierkegaard, Kung and Philips, as well as \"replacements for\\n', b'God\" such as Lelie\\'s axiarchism.  The book is a delight to read - less\\n', b\"formalistic and better written than Martin's works, and refreshingly direct\\n\", b'when compared with the hand-waving of Swinburne.\\n', b'\\n', b'JAMES A. HAUGHT\\n', b'\\n', b'\"Holy Horrors: An Illustrated History of Religious Murder and Madness\",\\n', b' Prometheus Books\\n', b'Looks at religious persecution from ancient times to the present day -- and\\n', b'not only by Christians.\\n', b'Library of Congress Catalog Card Number 89-64079. 1990.\\n', b'\\n', b'NORM R. ALLEN, JR.\\n', b'\\n', b'\"African American Humanism: an Anthology\"\\n', b'See the listing for African Americans for Humanism above.\\n', b'\\n', b'GORDON STEIN\\n', b'\\n', b'\"An Anthology of Atheism and Rationalism\", Prometheus Books\\n', b\"An anthology covering a wide range of subjects, including 'The Devil, Evil\\n\", b\"and Morality' and 'The History of Freethought'.  Comprehensive bibliography.\\n\", b'\\n', b'EDMUND D. COHEN\\n', b'\\n', b'\"The Mind of The Bible-Believer\", Prometheus Books\\n', b'A study of why people become Christian fundamentalists, and what effect it\\n', b'has on them.\\n', b'\\n', b'                                Net Resources\\n', b'\\n', b\"There's a small mail-based archive server at mantis.co.uk which carries\\n\", b'archives of old alt.atheism.moderated articles and assorted other files.  For\\n', b'more information, send mail to archive-server@mantis.co.uk saying\\n', b'\\n', b'   help\\n', b'   send atheism/index\\n', b'\\n', b'and it will mail back a reply.\\n', b'\\n', b'\\n', b'mathew\\n', b'\\xff\\n']\n"
     ]
    },
    {
     "data": {
      "text/plain": [
       "[]"
      ]
     },
     "execution_count": 67,
     "metadata": {},
     "output_type": "execute_result"
    }
   ],
   "source": [
    "read_file('data/20_newsgroups/alt.atheism/49960')"
   ]
  },
  {
   "cell_type": "code",
   "execution_count": null,
   "metadata": {},
   "outputs": [],
   "source": []
  }
 ],
 "metadata": {
  "kernelspec": {
   "display_name": "asheesh",
   "language": "python",
   "name": "asheesh"
  },
  "language_info": {
   "codemirror_mode": {
    "name": "ipython",
    "version": 3
   },
   "file_extension": ".py",
   "mimetype": "text/x-python",
   "name": "python",
   "nbconvert_exporter": "python",
   "pygments_lexer": "ipython3",
   "version": "3.8.5"
  }
 },
 "nbformat": 4,
 "nbformat_minor": 4
}
