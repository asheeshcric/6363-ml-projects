{
 "cells": [
  {
   "cell_type": "markdown",
   "metadata": {},
   "source": [
    "# Linear Regression from Scratch (in Python)"
   ]
  },
  {
   "cell_type": "markdown",
   "metadata": {},
   "source": [
    "### **What is Linear Regression?**\n",
    "* Linear regression is a method to define a relation between an independent variable X and a dependent variable Y formulated as:\n",
    "    - `Y = mX + b`\n",
    "    \n",
    "* Here, **m** is the scale factor and **b** is the bias of the model. The goal is to find a line that fits the given points as close as possible\n",
    "\n",
    "### **Methods**\n",
    "\n",
    "1. Ordinary Least Squares (OLS)\n",
    "    - Find the sum of the square of the distance from each point to the line, denoted as **error sum**.\n",
    "    - Try to minimize the error sum\n",
    "\n",
    "2. Gradient Descent (GD)\n",
    "    - something"
   ]
  },
  {
   "cell_type": "markdown",
   "metadata": {},
   "source": [
    "## 1. Ordinary Least Squares Method (OLS)"
   ]
  },
  {
   "cell_type": "markdown",
   "metadata": {},
   "source": [
    "![](static/ols.png)"
   ]
  },
  {
   "cell_type": "code",
   "execution_count": 1,
   "metadata": {},
   "outputs": [],
   "source": [
    "import numpy as np\n",
    "import matplotlib.pyplot as plt\n",
    "import pandas as pd"
   ]
  },
  {
   "cell_type": "code",
   "execution_count": null,
   "metadata": {},
   "outputs": [],
   "source": []
  }
 ],
 "metadata": {
  "kernelspec": {
   "display_name": "asheesh",
   "language": "python",
   "name": "asheesh"
  },
  "language_info": {
   "codemirror_mode": {
    "name": "ipython",
    "version": 3
   },
   "file_extension": ".py",
   "mimetype": "text/x-python",
   "name": "python",
   "nbconvert_exporter": "python",
   "pygments_lexer": "ipython3",
   "version": "3.8.5"
  }
 },
 "nbformat": 4,
 "nbformat_minor": 4
}
