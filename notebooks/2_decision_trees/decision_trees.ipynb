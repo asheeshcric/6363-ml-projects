{
 "cells": [
  {
   "cell_type": "markdown",
   "metadata": {},
   "source": [
    "# Decision Trees implemented with Entropy"
   ]
  },
  {
   "cell_type": "code",
   "execution_count": 1,
   "metadata": {},
   "outputs": [],
   "source": [
    "import numpy as np\n",
    "from collections import Counter"
   ]
  },
  {
   "cell_type": "markdown",
   "metadata": {},
   "source": [
    "### Entropy is defined as:\n",
    "\n",
    "E = - $\\sum$ p(X) . $log_{2}$(p(X))"
   ]
  },
  {
   "cell_type": "code",
   "execution_count": 2,
   "metadata": {},
   "outputs": [],
   "source": [
    "def entropy(y):\n",
    "    \"\"\"\n",
    "    Measures the uncertainty of labels based on a feature \n",
    "    \"\"\"\n",
    "    # First, count the occurences of each label in the dataset\n",
    "    hist = np.bincount(y)\n",
    "    # Proportion of each label in the dataset\n",
    "    ps = hist / len(y)\n",
    "    # Formula for entropy (if condition is to avoid negative numbers inside log2() function)\n",
    "    return -np.sum([p*np.log2(p) for p in ps if p > 0])"
   ]
  },
  {
   "cell_type": "markdown",
   "metadata": {},
   "source": [
    "### Helper Node class to build the tree"
   ]
  },
  {
   "cell_type": "code",
   "execution_count": 3,
   "metadata": {},
   "outputs": [],
   "source": [
    "class Node:\n",
    "    \n",
    "    def __init__(self, feature_index=None, threshold=None, left=None, right=None, *, value=None):\n",
    "        self.feature_index = feature_index\n",
    "        self.threshold = threshold\n",
    "        self.left = left\n",
    "        self.right = right\n",
    "        self.value = value\n",
    "        \n",
    "    def is_leaf_node(self):\n",
    "        # If a node has a value (i.e. a corresponding class label), then it is the leaf node\n",
    "        return self.value is not None    \n",
    "        "
   ]
  },
  {
   "cell_type": "markdown",
   "metadata": {},
   "source": [
    "### Decision Tree Class"
   ]
  },
  {
   "cell_type": "code",
   "execution_count": 4,
   "metadata": {},
   "outputs": [],
   "source": [
    "class DecisionTree:\n",
    "    \"\"\"\n",
    "    Here, the tree needs some stopping criteria as to when to stop building the tree:\n",
    "        1. When there is only one label present in the remaining data\n",
    "        2. When the number of samples is less than 2\n",
    "        3. When a max_depth is reached and we don't want to go further\n",
    "    So, these are the stopping criteria that we can check to stop building the tree further and make that node as a leaf node\n",
    "    \n",
    "    X.shape = (n_samples, n_features)\n",
    "    \"\"\"\n",
    "    def __init__(self, min_samples_split=2, max_depth=100, n_features=None):\n",
    "        self.min_samples_split = min_samples_split\n",
    "        self.max_depth = max_depth\n",
    "        self.n_features = n_features\n",
    "        self.root = None\n",
    "        \n",
    "    def fit(self, X, y):\n",
    "        # Grow the tree while training based on the based split features\n",
    "        self.n_features = X.shape[1] if not self.n_features else min(self.n_features, X.shape[1])\n",
    "        self.root = self._grow_tree(X, y)\n",
    "    \n",
    "    def predict(self, X):\n",
    "        # Traverse the tree to get a class for the feature values provided\n",
    "        return np.array([self._traverse_tree(x, self.root) for x in X])\n",
    "    \n",
    "    def _grow_tree(self, X, y, depth=0):\n",
    "        # A helper function to grow the tree recursively\n",
    "        n_samples, n_features = X.shape\n",
    "        n_labels = len(np.unique(y))\n",
    "        \n",
    "        # Check for a stopping criteria (base condition)\n",
    "        if depth >= self.max_depth or n_labels == 1 or n_samples < self.min_samples_split:\n",
    "            # This means we are at the leaf node\n",
    "            leaf_value = self._most_common_label(y)\n",
    "            return Node(value=leaf_value)\n",
    "        \n",
    "        # Randomly selected indices for features to be selected\n",
    "        feature_indices = np.random.choice(n_features, self.n_features, replace=False)\n",
    "        \n",
    "        # Do a greedy search to build the tree\n",
    "        \n",
    "        # 1. First get the best feature to split the data\n",
    "        best_feature, best_threshold = self._best_criteria(X, y, feature_indices)\n",
    "        \n",
    "        # 2. Split the data using the best feature\n",
    "        left_indices, right_indices = self._split(X[:, best_feature], best_threshold)\n",
    "        \n",
    "        # 3. Recursively grow the tree\n",
    "        left = self._grow_tree(X[left_indices, :], y[left_indices], depth+1)\n",
    "        right = self._grow_tree(X[right_indices, :], y[right_indices], depth+1)\n",
    "        \n",
    "        # 4. Return the node with its values and left and right children\n",
    "        return Node(best_feature, best_threshold, left, right)\n",
    "        \n",
    "    def _most_common_label(self, y):\n",
    "        counter = Counter(y)\n",
    "        most_common = counter.most_common(1)\n",
    "        return most_common[0][0]\n",
    "    \n",
    "    def _best_criteria(self, X, y, feature_indices):\n",
    "        # Calculate the information gain by going through all the features\n",
    "        best_gain = -1\n",
    "        split_index, split_threshold = None, None\n",
    "        for feature_index in feature_indices:\n",
    "            X_col = X[:, feature_index]\n",
    "            thresholds = np.unique(X_col)\n",
    "            for thres in thresholds:\n",
    "                gain = self._get_information_gain(y, X_col, thres)\n",
    "                \n",
    "                if gain > best_gain:\n",
    "                    best_gain = gain\n",
    "                    split_index = feature_index\n",
    "                    split_threshold = thres\n",
    "                    \n",
    "        return split_index, split_threshold\n",
    "    \n",
    "    def _get_information_gain(self, y, X_col, split_threshold):\n",
    "        # Check formula to calculate the information gain above\n",
    "        # 1. Parent entropy\n",
    "        parent_entropy = entropy(y)\n",
    "        \n",
    "        # 2. Generate split\n",
    "        left_indices, right_indices = self._split(X_col, split_threshold)\n",
    "        if len(left_indices) == 0 or len(right_indices):\n",
    "            # The node cannot be splitted anymore. So return an information gain = 0\n",
    "            return 0\n",
    "        \n",
    "        # 3. Weighted average for each child\n",
    "        N = len(y)\n",
    "        n_left, n_right = len(left_indices), len(right_indices)\n",
    "        left_entropy, right_entropy = entropy(y[left_indices]), entropy(y[right_indices])\n",
    "        # Weighted child entropy\n",
    "        child_entropy = n_left/N*left_entropy + n_right/N*right_entropy\n",
    "        \n",
    "        # 4. Information gain = parent_entropy - weighted_child_entropy\n",
    "        information_gain = parent_entropy - child_entropy\n",
    "        return information_gain\n",
    "        \n",
    "    def _split(self, X_col, split_threshold):\n",
    "        left_indices = np.argwhere(X_col <= split_threshold).flatten()\n",
    "        right_indices = np.argwhere(X_col > split_threshold).flatten()\n",
    "        return left_indices, right_indices\n",
    "    \n",
    "    def _traverse_tree(self, x, node):\n",
    "        # Starting from the root, traverse down the tree based on the features of each x\n",
    "        # This is done recursively with the following base condition\n",
    "        if node.is_leaf_node():\n",
    "            return node.value\n",
    "        \n",
    "        # If the value of that feature (based on which the node splits) is less that or equal to the threshold of that node,\n",
    "        # then traverse to the left of that node, else to the right\n",
    "        # Here, node.feature_index gives the index of the feature in the data\n",
    "        if x[node.feature_index] <= node.threshold:\n",
    "            return self._traverse_tree(x, node.left)\n",
    "        \n",
    "        return self._traverse_tree(x, node.right)\n",
    "        "
   ]
  },
  {
   "cell_type": "markdown",
   "metadata": {},
   "source": [
    "### Train and Test the Decision Tree model"
   ]
  },
  {
   "cell_type": "code",
   "execution_count": 5,
   "metadata": {},
   "outputs": [
    {
     "name": "stdout",
     "output_type": "stream",
     "text": [
      "Accuracy: 0.6052631578947368\n"
     ]
    }
   ],
   "source": [
    "import numpy as np\n",
    "from sklearn import datasets\n",
    "from sklearn.model_selection import train_test_split\n",
    "\n",
    "def accuracy(y_true, y_pred):\n",
    "    accuracy = np.sum(y_true == y_pred) / len(y_true)\n",
    "    return accuracy\n",
    "\n",
    "data = datasets.load_breast_cancer()\n",
    "X = data.data\n",
    "y = data.target\n",
    "\n",
    "X_train, X_test, y_train, y_test = train_test_split(X, y, test_size=0.2, random_state=1234)\n",
    "\n",
    "clf = DecisionTree(max_depth=10)\n",
    "clf.fit(X_train, y_train)\n",
    "    \n",
    "y_pred = clf.predict(X_test)\n",
    "acc = accuracy(y_test, y_pred)\n",
    "\n",
    "print (\"Accuracy:\", acc)"
   ]
  },
  {
   "cell_type": "code",
   "execution_count": null,
   "metadata": {},
   "outputs": [],
   "source": []
  }
 ],
 "metadata": {
  "kernelspec": {
   "display_name": "asheesh",
   "language": "python",
   "name": "asheesh"
  },
  "language_info": {
   "codemirror_mode": {
    "name": "ipython",
    "version": 3
   },
   "file_extension": ".py",
   "mimetype": "text/x-python",
   "name": "python",
   "nbconvert_exporter": "python",
   "pygments_lexer": "ipython3",
   "version": "3.8.5"
  }
 },
 "nbformat": 4,
 "nbformat_minor": 4
}
